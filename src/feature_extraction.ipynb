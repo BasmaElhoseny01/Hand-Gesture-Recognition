{
 "cells": [
  {
   "cell_type": "code",
   "execution_count": 9,
   "metadata": {},
   "outputs": [],
   "source": [
    "# IMPORTS\n",
    "import cv2\n",
    "import numpy as np\n",
    "import utils\n",
    "import matplotlib.pyplot as plt"
   ]
  },
  {
   "cell_type": "code",
   "execution_count": 10,
   "metadata": {},
   "outputs": [],
   "source": [
    "def show_images(images, titles=None):\n",
    "    \"\"\"\n",
    "    This function is used to show image(s) with titles by sending an array of images and an array of associated titles.\n",
    "    @param images :array of images to be shown\n",
    "    @param titles:titles corresponding to images\n",
    "\n",
    "    @return None\n",
    "    \"\"\"\n",
    "    #\n",
    "    # images[0] will be drawn with the title titles[0] if exists\n",
    "    # You aren't required to understand this function, use it as-is.\n",
    "    n_ims = len(images)\n",
    "    if titles is None:\n",
    "        titles = ['(%d)' % i for i in range(1, n_ims + 1)]\n",
    "    fig = plt.figure()\n",
    "    n = 1\n",
    "    for image, title in zip(images, titles):\n",
    "        a = fig.add_subplot(1, n_ims, n)\n",
    "        if image.ndim == 2:\n",
    "            plt.gray()\n",
    "        plt.imshow(image)\n",
    "        a.set_title(title)\n",
    "        n += 1\n",
    "    fig.set_size_inches(np.array(fig.get_size_inches()) * n_ims)\n",
    "    plt.show()\n",
    "    return None"
   ]
  },
  {
   "cell_type": "code",
   "execution_count": 37,
   "metadata": {},
   "outputs": [
    {
     "data": {
      "image/png": "[encoded data removed]",
      "text/plain": [
       "<Figure size 432x288 with 1 Axes>"
      ]
     },
     "metadata": {
      "needs_background": "light"
     },
     "output_type": "display_data"
    },
    {
     "ename": "error",
     "evalue": "OpenCV(4.7.0) :-1: error: (-5:Bad argument) in function 'findContours'\n> Overload resolution failed:\n>  - findContours() missing required argument 'mode' (pos 2)\n>  - findContours() missing required argument 'mode' (pos 2)\n",
     "output_type": "error",
     "traceback": [
      "\u001b[1;31m---------------------------------------------------------------------------\u001b[0m",
      "\u001b[1;31merror\u001b[0m                                     Traceback (most recent call last)",
      "\u001b[1;32mc:\\Users\\yazmi\\OneDrive\\Desktop\\Uni\\Third Year\\Second Semester\\Neural Networks\\Project\\Hand-Gesture-Recognition\\src\\feature_extraction.ipynb Cell 3\u001b[0m in \u001b[0;36m<cell line: 11>\u001b[1;34m()\u001b[0m\n\u001b[0;32m      <a href='vscode-notebook-cell:/c%3A/Users/yazmi/OneDrive/Desktop/Uni/Third%20Year/Second%20Semester/Neural%20Networks/Project/Hand-Gesture-Recognition/src/feature_extraction.ipynb#W0sZmlsZQ%3D%3D?line=5'>6</a>\u001b[0m plt\u001b[39m.\u001b[39mimshow(img), plt\u001b[39m.\u001b[39mshow()\n\u001b[0;32m      <a href='vscode-notebook-cell:/c%3A/Users/yazmi/OneDrive/Desktop/Uni/Third%20Year/Second%20Semester/Neural%20Networks/Project/Hand-Gesture-Recognition/src/feature_extraction.ipynb#W0sZmlsZQ%3D%3D?line=7'>8</a>\u001b[0m \u001b[39m# img = cv2.dilate(img, (50, 20), img)\u001b[39;00m\n\u001b[0;32m      <a href='vscode-notebook-cell:/c%3A/Users/yazmi/OneDrive/Desktop/Uni/Third%20Year/Second%20Semester/Neural%20Networks/Project/Hand-Gesture-Recognition/src/feature_extraction.ipynb#W0sZmlsZQ%3D%3D?line=8'>9</a>\u001b[0m \u001b[39m# plt.imshow(img), plt.show()\u001b[39;00m\n\u001b[1;32m---> <a href='vscode-notebook-cell:/c%3A/Users/yazmi/OneDrive/Desktop/Uni/Third%20Year/Second%20Semester/Neural%20Networks/Project/Hand-Gesture-Recognition/src/feature_extraction.ipynb#W0sZmlsZQ%3D%3D?line=10'>11</a>\u001b[0m contours, _ \u001b[39m=\u001b[39m cv2\u001b[39m.\u001b[39;49mfindContours(img)\n\u001b[0;32m     <a href='vscode-notebook-cell:/c%3A/Users/yazmi/OneDrive/Desktop/Uni/Third%20Year/Second%20Semester/Neural%20Networks/Project/Hand-Gesture-Recognition/src/feature_extraction.ipynb#W0sZmlsZQ%3D%3D?line=11'>12</a>\u001b[0m length \u001b[39m=\u001b[39m \u001b[39mlen\u001b[39m(contours)\n\u001b[0;32m     <a href='vscode-notebook-cell:/c%3A/Users/yazmi/OneDrive/Desktop/Uni/Third%20Year/Second%20Semester/Neural%20Networks/Project/Hand-Gesture-Recognition/src/feature_extraction.ipynb#W0sZmlsZQ%3D%3D?line=12'>13</a>\u001b[0m \u001b[39mfor\u001b[39;00m i \u001b[39min\u001b[39;00m \u001b[39mrange\u001b[39m(\u001b[39mlen\u001b[39m(contours)):\n",
      "\u001b[1;31merror\u001b[0m: OpenCV(4.7.0) :-1: error: (-5:Bad argument) in function 'findContours'\n> Overload resolution failed:\n>  - findContours() missing required argument 'mode' (pos 2)\n>  - findContours() missing required argument 'mode' (pos 2)\n"
     ]
    }
   ],
   "source": [
    "# CORNER DETECTION \n",
    "filename = '../prepocessing_output/binary_1_men (1).JPG'\n",
    "\n",
    "# read the image\n",
    "img = cv2.imread(filename)\n",
    "plt.imshow(img), plt.show()\n",
    "\n",
    "# img = cv2.dilate(img, (50, 20), img)\n",
    "# plt.imshow(img), plt.show()\n",
    "\n",
    "contours, _ = cv2.findContours(img)\n",
    "length = len(contours)\n",
    "for i in range(len(contours)):\n",
    "    cv2.drawContours(img, contours, i, (0,255,0), 2, cv2.LINE_8)\n",
    "    plt.imshow(img), plt.show()\n",
    "\n",
    "# convert image to gray scale image\n",
    "gray = cv2.cvtColor(img, cv2.COLOR_BGR2GRAY)\n",
    "  \n",
    "# detect corners with the goodFeaturesToTrack function.\n",
    "corners = cv2.goodFeaturesToTrack(gray, 0, 0.8, 10)\n",
    "corners = np.int0(corners)\n",
    "  \n",
    "# we iterate through each corner, \n",
    "# making a circle at each point that we think is a corner.\n",
    "for corner in corners:\n",
    "    x, y = corner.ravel()\n",
    "    print(x, y)\n",
    "    centre = (x, y)\n",
    "    color = (255, 0, 0)\n",
    "    radius = 20\n",
    "    thickness = 10\n",
    "\n",
    "    img = cv2.circle(img, centre, radius, color, thickness)\n",
    "  \n",
    "plt.imshow(img), plt.show()"
   ]
  },
  {
   "cell_type": "code",
   "execution_count": null,
   "metadata": {},
   "outputs": [],
   "source": [
    "# HOG"
   ]
  }
 ],
 "metadata": {
  "kernelspec": {
   "display_name": "base",
   "language": "python",
   "name": "python3"
  },
  "language_info": {
   "codemirror_mode": {
    "name": "ipython",
    "version": 3
   },
   "file_extension": ".py",
   "mimetype": "text/x-python",
   "name": "python",
   "nbconvert_exporter": "python",
   "pygments_lexer": "ipython3",
   "version": "3.9.12"
  },
  "orig_nbformat": 4
 },
 "nbformat": 4,
 "nbformat_minor": 2
}
