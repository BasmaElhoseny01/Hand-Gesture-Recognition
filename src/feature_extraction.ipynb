{
 "cells": [
  {
   "cell_type": "code",
   "execution_count": 1,
   "metadata": {},
   "outputs": [],
   "source": [
    "%load_ext autoreload\n",
    "%autoreload 2\n",
    "from utils import *\n",
    "from feature_extraction import extract_features"
   ]
  },
  {
   "cell_type": "code",
   "execution_count": 3,
   "metadata": {},
   "outputs": [
    {
     "ename": "error",
     "evalue": "OpenCV(4.7.0) D:\\a\\opencv-python\\opencv-python\\opencv\\modules\\features2d\\src\\sift.dispatch.cpp:495: error: (-5:Bad argument) image is empty or has incorrect depth (!=CV_8U) in function 'cv::SIFT_Impl::detectAndCompute'\n",
     "output_type": "error",
     "traceback": [
      "\u001b[1;31m---------------------------------------------------------------------------\u001b[0m",
      "\u001b[1;31merror\u001b[0m                                     Traceback (most recent call last)",
      "Cell \u001b[1;32mIn[3], line 4\u001b[0m\n\u001b[0;32m      1\u001b[0m path_of_the_directory_result_men \u001b[39m=\u001b[39m \u001b[39m'\u001b[39m\u001b[39m../preprocessing_output/men/2/2.jpg\u001b[39m\u001b[39m'\u001b[39m\n\u001b[0;32m      2\u001b[0m img \u001b[39m=\u001b[39m cv2\u001b[39m.\u001b[39mimread(path_of_the_directory_result_men,cv2\u001b[39m.\u001b[39mIMREAD_GRAYSCALE)\n\u001b[1;32m----> 4\u001b[0m corners_descriptors\u001b[39m=\u001b[39mextract_features(img)\n\u001b[0;32m      5\u001b[0m \u001b[39mprint\u001b[39m(corners_descriptors)\n",
      "File \u001b[1;32md:\\Hand-Gesture-Recognition\\src\\feature_extraction.py:7\u001b[0m, in \u001b[0;36mextract_features\u001b[1;34m(img, debug)\u001b[0m\n\u001b[0;32m      4\u001b[0m \u001b[39mdef\u001b[39;00m \u001b[39mextract_features\u001b[39m(img, debug\u001b[39m=\u001b[39m\u001b[39mFalse\u001b[39;00m):\n\u001b[0;32m      5\u001b[0m \n\u001b[0;32m      6\u001b[0m     \u001b[39m# Corner Ha\u001b[39;00m\n\u001b[1;32m----> 7\u001b[0m     \u001b[39mreturn\u001b[39;00m Harris(img, debug)\n",
      "File \u001b[1;32md:\\Hand-Gesture-Recognition\\src\\feature_extraction.py:26\u001b[0m, in \u001b[0;36mHarris\u001b[1;34m(img, debug)\u001b[0m\n\u001b[0;32m     23\u001b[0m sift \u001b[39m=\u001b[39m cv2\u001b[39m.\u001b[39mSIFT_create()\n\u001b[0;32m     25\u001b[0m \u001b[39m# Detect and compute SIFT descriptors for Harris corners\u001b[39;00m\n\u001b[1;32m---> 26\u001b[0m keypoints, descriptors \u001b[39m=\u001b[39m sift\u001b[39m.\u001b[39;49mdetectAndCompute(harris_img, \u001b[39mNone\u001b[39;49;00m)\n\u001b[0;32m     28\u001b[0m \u001b[39mif\u001b[39;00m (debug):\n\u001b[0;32m     29\u001b[0m     output_image \u001b[39m=\u001b[39m cv2\u001b[39m.\u001b[39mdrawKeypoints(img, keypoints, \u001b[39m0\u001b[39m, (\u001b[39m0\u001b[39m, \u001b[39m0\u001b[39m, \u001b[39m255\u001b[39m),\n\u001b[0;32m     30\u001b[0m                                      flags\u001b[39m=\u001b[39mcv2\u001b[39m.\u001b[39mDRAW_MATCHES_FLAGS_NOT_DRAW_SINGLE_POINTS)\n",
      "\u001b[1;31merror\u001b[0m: OpenCV(4.7.0) D:\\a\\opencv-python\\opencv-python\\opencv\\modules\\features2d\\src\\sift.dispatch.cpp:495: error: (-5:Bad argument) image is empty or has incorrect depth (!=CV_8U) in function 'cv::SIFT_Impl::detectAndCompute'\n"
     ]
    }
   ],
   "source": [
    "path_of_the_directory_result_men = '../preprocessing_output/men/2/2.jpg'\n",
    "img = cv2.imread(path_of_the_directory_result_men,cv2.IMREAD_GRAYSCALE)\n",
    " \n",
    "corners_descriptors=extract_features(img)\n",
    "print(corners_descriptors)"
   ]
  },
  {
   "cell_type": "code",
   "execution_count": null,
   "metadata": {},
   "outputs": [],
   "source": [
    "# def show_images(images, titles=None):\n",
    "#     \"\"\"\n",
    "#     This function is used to show image(s) with titles by sending an array of images and an array of associated titles.\n",
    "#     @param images :array of images to be shown\n",
    "#     @param titles:titles corresponding to images\n",
    "\n",
    "#     @return None\n",
    "#     \"\"\"\n",
    "#     #\n",
    "#     # images[0] will be drawn with the title titles[0] if exists\n",
    "#     # You aren't required to understand this function, use it as-is.\n",
    "#     n_ims = len(images)\n",
    "#     if titles is None:\n",
    "#         titles = ['(%d)' % i for i in range(1, n_ims + 1)]\n",
    "#     fig = plt.figure()\n",
    "#     n = 1\n",
    "#     for image, title in zip(images, titles):\n",
    "#         a = fig.add_subplot(1, n_ims, n)\n",
    "#         if image.ndim == 2:\n",
    "#             plt.gray()\n",
    "#         plt.imshow(image)\n",
    "#         a.set_title(title)\n",
    "#         n += 1\n",
    "#     fig.set_size_inches(np.array(fig.get_size_inches()) * n_ims)\n",
    "#     plt.show()\n",
    "#     return None"
   ]
  },
  {
   "cell_type": "code",
   "execution_count": null,
   "metadata": {},
   "outputs": [],
   "source": [
    "# # CORNER DETECTION \n",
    "# def detectCorners(filename):\n",
    "#     # read the image\n",
    "#     img = cv2.imread(filename)\n",
    "#     # plt.imshow(img), plt.show()\n",
    "\n",
    "#     # img = cv2.dilate(img, (50, 20), img)\n",
    "#     # plt.imshow(img), plt.show()\n",
    "\n",
    "#     # convert image to gray scale image\n",
    "#     gray = cv2.cvtColor(img, cv2.COLOR_BGR2GRAY)\n",
    "    \n",
    "#     # detect corners with the goodFeaturesToTrack function.\n",
    "#     corners = cv2.goodFeaturesToTrack(gray, 0, 0.8, 10)\n",
    "#     corners = np.int0(corners)\n",
    "#     # print(corners[0][0])\n",
    "#     corners_detected = []\n",
    "#     # we iterate through each corner, \n",
    "#     # making a circle at each point that we think is a corner.\n",
    "#     for corner in corners:\n",
    "#         x, y = corner.ravel()\n",
    "#         # print(x, y)\n",
    "#         corners_detected.append([x, y])\n",
    "#         centre = (x, y)\n",
    "#         color = (255, 0, 0)\n",
    "#         radius = 50\n",
    "#         thickness = 10\n",
    "\n",
    "#         img = cv2.circle(img, centre, radius, color, thickness)\n",
    "    \n",
    "#     corners_detected = np.asarray(corners_detected)\n",
    "\n",
    "#     # Create SIFT descriptor\n",
    "#     sift = cv2.SIFT_create()\n",
    "\n",
    "#     # Detect and compute SIFT descriptors for Harris corners\n",
    "#     keypoints1, descriptors1 = sift.detectAndCompute(corners_detected, None)\n",
    "\n",
    "#     # print(corners_detected)\n",
    "    \n",
    "#     # plt.imshow(img), plt.show()\n",
    "\n",
    "#     return corners_detected,descriptors1\n",
    "\n",
    "# filename = '../preprocessing_output/men/2/edge_2_men (100).JPG'\n",
    "# detectCorners(filename)"
   ]
  },
  {
   "cell_type": "code",
   "execution_count": null,
   "metadata": {},
   "outputs": [],
   "source": [
    "\n",
    "# # Extract Harris corners\n",
    "# block_size = 2\n",
    "# aperture_size = 3\n",
    "# k = 0.04\n",
    "# harris_img1 = cv2.cornerHarris(img1, block_size, aperture_size, k)\n",
    "# harris_img2 = cv2.cornerHarris(img2, block_size, aperture_size, k)\n",
    "\n",
    "# # Create SIFT descriptor\n",
    "# sift = cv2.SIFT_create()\n",
    "\n",
    "# # Detect and compute SIFT descriptors for Harris corners\n",
    "# keypoints1, descriptors1 = sift.detectAndCompute(harris_img1, None)\n",
    "# keypoints2, descriptors2 = sift.detectAndCompute(harris_img2, None)\n",
    "\n",
    "# # Combine SIFT descriptors and label the samples\n",
    "# X = np.vstack((descriptors1, descriptors2))\n",
    "# y = np.hstack((np.zeros(descriptors1.shape[0]), np.ones(descriptors2.shape[0])))\n",
    "\n",
    "# # from sklearn.svm import SVC\n",
    "\n",
    "# # # Train SVM classifier\n",
    "# # svm = SVC(kernel='linear', C=1.0)\n",
    "# # svm.fit(X, y)"
   ]
  },
  {
   "cell_type": "code",
   "execution_count": null,
   "metadata": {},
   "outputs": [],
   "source": [
    "# HOG"
   ]
  }
 ],
 "metadata": {
  "kernelspec": {
   "display_name": "base",
   "language": "python",
   "name": "python3"
  },
  "language_info": {
   "codemirror_mode": {
    "name": "ipython",
    "version": 3
   },
   "file_extension": ".py",
   "mimetype": "text/x-python",
   "name": "python",
   "nbconvert_exporter": "python",
   "pygments_lexer": "ipython3",
   "version": "3.9.12"
  },
  "orig_nbformat": 4
 },
 "nbformat": 4,
 "nbformat_minor": 2
}
