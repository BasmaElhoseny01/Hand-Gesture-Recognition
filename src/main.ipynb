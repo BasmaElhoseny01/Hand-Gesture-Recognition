{
 "cells": [
  {
   "cell_type": "code",
   "execution_count": 106,
   "metadata": {},
   "outputs": [
    {
     "name": "stdout",
     "output_type": "stream",
     "text": [
      "The autoreload extension is already loaded. To reload it, use:\n",
      "  %reload_ext autoreload\n"
     ]
    }
   ],
   "source": [
    "%load_ext autoreload\n",
    "%autoreload 2\n",
    "from utils import*\n",
    "from preprocessing import preprocessing\n",
    "from feature_extraction import extract_features\n",
    "from feature_extraction import cluster_descriptors\n",
    "from training import train_svm\n",
    "from sklearn.cluster import KMeans"
   ]
  },
  {
   "cell_type": "code",
   "execution_count": 11,
   "metadata": {},
   "outputs": [],
   "source": [
    "path_of_the_directory='../data/men/0/'\n",
    "path_of_the_directory_result='../preprocessing_output/men/0/'\n",
    "i=0\n",
    "for filename in os.listdir(path_of_the_directory):\n",
    "    if(i>20):\n",
    "        break\n",
    "    i=i+1\n",
    "    img = cv2.imread(path_of_the_directory+str( filename))\n",
    "    if img is None:\n",
    "        continue\n",
    "\n",
    "    # Skin Masks\n",
    "    binary_hand=preprocessing(img, gamma=True, close=True)\n",
    "    cv2.imwrite(path_of_the_directory_result+str(i)+'.jpg',binary_hand)\n",
    "\n",
    "path_of_the_directory='../data/women/0/'\n",
    "path_of_the_directory_result='../preprocessing_output/women/0/'\n",
    "i=0\n",
    "for filename in os.listdir(path_of_the_directory):\n",
    "    if(i>20):\n",
    "        break\n",
    "    i=i+1\n",
    "    img = cv2.imread(path_of_the_directory+str( filename))\n",
    "    if img is None:\n",
    "        continue\n",
    "\n",
    "    # Skin Masks\n",
    "    binary_hand=preprocessing(img, gamma=True, close=True)\n",
    "    cv2.imwrite(path_of_the_directory_result+str(i)+'.jpg',binary_hand)"
   ]
  },
  {
   "cell_type": "code",
   "execution_count": 12,
   "metadata": {},
   "outputs": [],
   "source": [
    "path_of_the_directory='../data/men/1/'\n",
    "path_of_the_directory_result='../preprocessing_output/men/1/'\n",
    "i=0\n",
    "for filename in os.listdir(path_of_the_directory):\n",
    "    if(i>20):\n",
    "        break\n",
    "    i=i+1\n",
    "    img = cv2.imread(path_of_the_directory+str( filename))\n",
    "    if img is None:\n",
    "        continue\n",
    "\n",
    "    # Skin Masks\n",
    "    binary_hand=preprocessing(img, gamma=True, close=True)\n",
    "    cv2.imwrite(path_of_the_directory_result+str(i)+'.jpg',binary_hand)\n",
    "\n",
    "\n",
    "path_of_the_directory='../data/women/1/'\n",
    "path_of_the_directory_result='../preprocessing_output/women/1/'\n",
    "i=0\n",
    "for filename in os.listdir(path_of_the_directory):\n",
    "    if(i>20):\n",
    "        break\n",
    "    i=i+1\n",
    "    img = cv2.imread(path_of_the_directory+str( filename))\n",
    "    if img is None:\n",
    "        continue\n",
    "\n",
    "    # Skin Masks\n",
    "    binary_hand=preprocessing(img, gamma=True, close=True)\n",
    "    cv2.imwrite(path_of_the_directory_result+str(i)+'.jpg',binary_hand)"
   ]
  },
  {
   "cell_type": "code",
   "execution_count": 13,
   "metadata": {},
   "outputs": [],
   "source": [
    "path_of_the_directory='../data/men/2/'\n",
    "path_of_the_directory_result='../preprocessing_output/men/2/'\n",
    "i=0\n",
    "for filename in os.listdir(path_of_the_directory):\n",
    "    if(i>20):\n",
    "        break\n",
    "    i=i+1\n",
    "    img = cv2.imread(path_of_the_directory+str( filename))\n",
    "    if img is None:\n",
    "        continue\n",
    "\n",
    "    # Skin Masks\n",
    "    binary_hand=preprocessing(img, gamma=True, close=True)\n",
    "    cv2.imwrite(path_of_the_directory_result+str(i)+'.jpg',binary_hand)\n",
    "\n",
    "\n",
    "path_of_the_directory='../data/women/2/'\n",
    "path_of_the_directory_result='../preprocessing_output/women/2/'\n",
    "i=0\n",
    "for filename in os.listdir(path_of_the_directory):\n",
    "    if(i>20):\n",
    "        break\n",
    "    i=i+1\n",
    "    img = cv2.imread(path_of_the_directory+str( filename))\n",
    "    if img is None:\n",
    "        continue\n",
    "\n",
    "    # Skin Masks\n",
    "    binary_hand=preprocessing(img, gamma=True, close=True)\n",
    "    cv2.imwrite(path_of_the_directory_result+str(i)+'.jpg',binary_hand)"
   ]
  },
  {
   "cell_type": "code",
   "execution_count": 14,
   "metadata": {},
   "outputs": [
    {
     "name": "stdout",
     "output_type": "stream",
     "text": [
      "0\n",
      "1\n",
      "2\n",
      "3\n",
      "4\n",
      "5\n",
      "6\n",
      "7\n",
      "8\n",
      "9\n",
      "10\n",
      "11\n",
      "12\n",
      "13\n",
      "14\n",
      "15\n",
      "16\n",
      "17\n",
      "18\n",
      "19\n",
      "20\n"
     ]
    }
   ],
   "source": [
    "path_of_the_directory='../data/men/3/'\n",
    "path_of_the_directory_result='../preprocessing_output/men/3/'\n",
    "i=0\n",
    "for filename in os.listdir(path_of_the_directory):\n",
    "    if(i>20):\n",
    "        break\n",
    "    i=i+1\n",
    "    img = cv2.imread(path_of_the_directory+str( filename))\n",
    "    if img is None:\n",
    "        continue\n",
    "\n",
    "    # Skin Masks\n",
    "    binary_hand=preprocessing(img, gamma=True, close=True)\n",
    "    cv2.imwrite(path_of_the_directory_result+str(i)+'.jpg',binary_hand)\n",
    "\n",
    "path_of_the_directory='../data/women/3/'\n",
    "path_of_the_directory_result='../preprocessing_output/women/3/'\n",
    "i=0\n",
    "for filename in os.listdir(path_of_the_directory):\n",
    "    if(i>20):\n",
    "        break\n",
    "    print(i)\n",
    "    i=i+1\n",
    "    img = cv2.imread(path_of_the_directory+str( filename))\n",
    "    if img is None:\n",
    "        continue\n",
    "\n",
    "    # Skin Masks\n",
    "    binary_hand=preprocessing(img, gamma=True, close=True)\n",
    "    cv2.imwrite(path_of_the_directory_result+str(i)+'.jpg',binary_hand)"
   ]
  },
  {
   "cell_type": "code",
   "execution_count": 15,
   "metadata": {},
   "outputs": [],
   "source": [
    "path_of_the_directory='../data/men/4/'\n",
    "path_of_the_directory_result='../preprocessing_output/men/4/'\n",
    "i=0\n",
    "for filename in os.listdir(path_of_the_directory):\n",
    "    if(i>20):\n",
    "        break\n",
    "    i=i+1\n",
    "    img = cv2.imread(path_of_the_directory+str( filename))\n",
    "    if img is None:\n",
    "        continue\n",
    "\n",
    "    # Skin Masks\n",
    "    binary_hand=preprocessing(img, gamma=True, close=True)\n",
    "    cv2.imwrite(path_of_the_directory_result+str(i)+'.jpg',binary_hand)\n",
    "\n",
    "\n",
    "path_of_the_directory='../data/women/4/'\n",
    "path_of_the_directory_result='../preprocessing_output/women/4/'\n",
    "i=0\n",
    "for filename in os.listdir(path_of_the_directory):\n",
    "    if(i>20):\n",
    "        break\n",
    "    i=i+1\n",
    "    img = cv2.imread(path_of_the_directory+str( filename))\n",
    "    if img is None:\n",
    "        continue\n",
    "\n",
    "    # Skin Masks\n",
    "    binary_hand=preprocessing(img, gamma=True, close=True)\n",
    "    cv2.imwrite(path_of_the_directory_result+str(i)+'.jpg',binary_hand)"
   ]
  },
  {
   "cell_type": "code",
   "execution_count": 16,
   "metadata": {},
   "outputs": [],
   "source": [
    "path_of_the_directory='../data/men/5/'\n",
    "path_of_the_directory_result='../preprocessing_output/men/5/'\n",
    "i=0\n",
    "for filename in os.listdir(path_of_the_directory):\n",
    "    if(i>20):\n",
    "        break\n",
    "    i=i+1\n",
    "    img = cv2.imread(path_of_the_directory+str( filename))\n",
    "    if img is None:\n",
    "        continue\n",
    "\n",
    "    # Skin Masks\n",
    "    binary_hand=preprocessing(img, gamma=True, close=True)\n",
    "    cv2.imwrite(path_of_the_directory_result+str(i)+'.jpg',binary_hand)\n",
    "\n",
    "\n",
    "path_of_the_directory='../data/women/5/'\n",
    "path_of_the_directory_result='../preprocessing_output/women/5/'\n",
    "i=0\n",
    "for filename in os.listdir(path_of_the_directory):\n",
    "    if(i>20):\n",
    "        break\n",
    "    i=i+1\n",
    "    img = cv2.imread(path_of_the_directory+str( filename))\n",
    "    if img is None:\n",
    "        continue\n",
    "\n",
    "    # Skin Masks\n",
    "    binary_hand=preprocessing(img, gamma=True, close=True)\n",
    "    cv2.imwrite(path_of_the_directory_result+str(i)+'.jpg',binary_hand)"
   ]
  },
  {
   "cell_type": "markdown",
   "metadata": {},
   "source": [
    "Feature Extraction"
   ]
  },
  {
   "cell_type": "code",
   "execution_count": 99,
   "metadata": {},
   "outputs": [
    {
     "name": "stdout",
     "output_type": "stream",
     "text": [
      "0\n",
      "1\n",
      "../preprocessing_output/men/1/\n"
     ]
    }
   ],
   "source": [
    "feature_vector_men = []\n",
    "expected_class_men = []\n",
    "feature_vector_women = []\n",
    "expected_class_women = []\n",
    "for i in range(0, 2):\n",
    "    print(i)\n",
    "    path_of_the_directory_result_men = '../preprocessing_output/men/' + str(i) + '/'\n",
    "    path_of_the_directory_result_women = '../preprocessing_output/women/' + str(i) + '/'\n",
    "\n",
    "    for filename in os.listdir(path_of_the_directory_result_men):\n",
    "        img = cv2.imread(path_of_the_directory_result_men+str(filename), cv2.IMREAD_GRAYSCALE)\n",
    "        # print(path_of_the_directory_result_men + str(filename))\n",
    "        # corners_detected = detectCorners(path_of_the_directory_result_men + str(filename))\n",
    "        corners_descriptors=extract_features(img)\n",
    "        feature_vector_men.append(corners_descriptors)\n",
    "        expected_class_men.append(i)\n",
    "    \n",
    "    # export feature_vector_men to excel\n",
    "\n",
    "    # for filename in os.listdir(path_of_the_directory_result_women):\n",
    "    #     img = cv2.imread(path_of_the_directory_result_women+str(filename), cv2.IMREAD_GRAYSCALE)\n",
    "    #     # print(path_of_the_directory_result_women + str(filename))\n",
    "    #     # corners_detected = detectCorners(path_of_the_directory_result_women + str(filename))\n",
    "    #     # feature_vector_women.append(corners_detected)\n",
    "    #     corners_descriptors=extract_features(img)\n",
    "    #     feature_vector_women.append(corners_descriptors)\n",
    "    #     expected_class_women.append(i)\n",
    "    \n",
    "    # export feature_vector_women to excel\n",
    "\n",
    "print(path_of_the_directory_result_men)"
   ]
  },
  {
   "cell_type": "code",
   "execution_count": 102,
   "metadata": {},
   "outputs": [
    {
     "name": "stdout",
     "output_type": "stream",
     "text": [
      "18\n",
      "[0 0 0 0 0 0 0 0 0]\n",
      "[1, 0, 0, 1, 0, 1, 0, 1, 1]\n"
     ]
    },
    {
     "name": "stderr",
     "output_type": "stream",
     "text": [
      "c:\\Users\\mohab\\AppData\\Local\\Programs\\Python\\Python311\\Lib\\site-packages\\sklearn\\cluster\\_kmeans.py:870: FutureWarning: The default value of `n_init` will change from 10 to 'auto' in 1.4. Set the value of `n_init` explicitly to suppress the warning\n",
      "  warnings.warn(\n"
     ]
    }
   ],
   "source": [
    "# print(np.shape(feature_vector_men))\n",
    "# print(expected_class_men)\n",
    "# y = []\n",
    "# for fvm in feature_vector_men: \n",
    "#     # y = np.hstack(np.full(len(fvm),expected_class_men[i]) for i in fvm)\n",
    "#     y.append(np.vstack([expected_class_men[i]]*len(fvm) for i in fvm))\n",
    "# feature_vector_men = feature_vector_men.flatten()\n",
    "\n",
    "# feature_vector_men = np.asarray(feature_vector_men)\n",
    "# feature_vector_men.flatten()\n",
    "\n",
    "# for k in feature_vector_men:\n",
    "#     if(k is None):\n",
    "#         print(0)\n",
    "#     else:\n",
    "#         print(len(k))\n",
    "#         for j in k:\n",
    "#             if(j is None):\n",
    "#                 print(0, end=',')\n",
    "#             else:\n",
    "#                 print(len(j), end=',')\n",
    "#         print()\n",
    "\n",
    "# Original code\n",
    "# descriptors = []\n",
    "# for k in feature_vector_men:\n",
    "#     if(k is not None):\n",
    "#         for j in k:\n",
    "#             descriptors.append(j)\n",
    "descriptors = [j for k in feature_vector_men if k is not None for j in k]   #Cleaner version\n",
    "print(len(descriptors))\n",
    "num_of_clusters = 3\n",
    "num_of_images = len(feature_vector_men)\n",
    "kmeans = KMeans(n_clusters=num_of_clusters).fit(descriptors)\n",
    "final_fv = np.zeros((num_of_images, num_of_clusters))\n",
    "k_indx = 0\n",
    "for img_indx in range(len(feature_vector_men)):\n",
    "    if feature_vector_men[img_indx] is not None:\n",
    "        for p in range(len(feature_vector_men[img_indx])):\n",
    "            final_fv[img_indx][kmeans.labels_[k_indx]] += 1\n",
    "            k_indx += 1\n",
    "# print(expected_class_men)\n",
    "predicted_men, test = train_svm(final_fv, expected_class_men)\n",
    "print(predicted_men)\n",
    "print(test)\n",
    "# predicted_women = train_svm(feature_vector_women, expected_class_women)"
   ]
  },
  {
   "attachments": {},
   "cell_type": "markdown",
   "metadata": {},
   "source": [
    "Cleaner version of feature extraction"
   ]
  },
  {
   "cell_type": "code",
   "execution_count": 109,
   "metadata": {},
   "outputs": [
    {
     "name": "stdout",
     "output_type": "stream",
     "text": [
      "0\n",
      "1\n",
      "2\n",
      "3\n",
      "4\n",
      "5\n"
     ]
    }
   ],
   "source": [
    "feature_vector_men = []\n",
    "expected_class_men = []\n",
    "\n",
    "for i in range(0, 6):\n",
    "    print(i)\n",
    "    path_of_the_directory_result_men = '../preprocessing_output/men/' + str(i) + '/'\n",
    "    feature_descriptors, expexted_classes = extract_features(path_of_the_directory=path_of_the_directory_result_men, classification=i)\n",
    "    for fd in feature_descriptors:\n",
    "        feature_vector_men.append(fd)\n",
    "    for ec in expexted_classes:\n",
    "        expected_class_men.append(ec)\n"
   ]
  },
  {
   "cell_type": "code",
   "execution_count": 110,
   "metadata": {},
   "outputs": [
    {
     "name": "stdout",
     "output_type": "stream",
     "text": [
      "[3 3 3 3 5 5 3 3 3 5 3 3 3 3 3 3 5 3 3 3 3 3 5 3 5]\n",
      "[0, 2, 1, 3, 2, 4, 2, 5, 5, 0, 1, 4, 2, 4, 0, 3, 0, 4, 0, 5, 2, 3, 0, 1, 1]\n"
     ]
    },
    {
     "name": "stderr",
     "output_type": "stream",
     "text": [
      "c:\\Users\\mohab\\AppData\\Local\\Programs\\Python\\Python311\\Lib\\site-packages\\sklearn\\cluster\\_kmeans.py:870: FutureWarning: The default value of `n_init` will change from 10 to 'auto' in 1.4. Set the value of `n_init` explicitly to suppress the warning\n",
      "  warnings.warn(\n"
     ]
    }
   ],
   "source": [
    "feature_vector_men = cluster_descriptors(feature_vector_men, expected_class_men)\n",
    "prediction, actual = train_svm(feature_vector_men, expected_class_men)\n",
    "print(prediction)\n",
    "print(actual)"
   ]
  }
 ],
 "metadata": {
  "kernelspec": {
   "display_name": "Python 3",
   "language": "python",
   "name": "python3"
  },
  "language_info": {
   "codemirror_mode": {
    "name": "ipython",
    "version": 3
   },
   "file_extension": ".py",
   "mimetype": "text/x-python",
   "name": "python",
   "nbconvert_exporter": "python",
   "pygments_lexer": "ipython3",
   "version": "3.11.2"
  },
  "orig_nbformat": 4
 },
 "nbformat": 4,
 "nbformat_minor": 2
}
