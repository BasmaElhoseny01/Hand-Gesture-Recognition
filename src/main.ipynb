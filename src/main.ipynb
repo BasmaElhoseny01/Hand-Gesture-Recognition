{
 "cells": [
  {
   "cell_type": "code",
   "execution_count": 26,
   "metadata": {},
   "outputs": [],
   "source": [
    "%load_ext autoreload\n",
    "%autoreload 2\n",
    "from utils import*\n",
    "from preprocessing import preprocessing\n",
    "from feature_extraction import extract_features\n",
    "from training import train_svm\n",
    "from performance import performance_analysis"
   ]
  },
  {
   "attachments": {},
   "cell_type": "markdown",
   "metadata": {},
   "source": [
    "Preprocessing"
   ]
  },
  {
   "cell_type": "code",
   "execution_count": null,
   "metadata": {},
   "outputs": [],
   "source": [
    "for i in range(0, 6):\n",
    "    print(i)\n",
    "    path_of_the_directory='../data/men/'+str(i)+'/'\n",
    "    path_of_the_directory_result='../outputs/preprocessing_output/men/'+str(i)+'/'\n",
    "    ind=0\n",
    "    for filename in os.listdir(path_of_the_directory):\n",
    "        if(ind>20):\n",
    "            break\n",
    "        ind=ind+1\n",
    "        img = cv2.imread(path_of_the_directory+str(filename))\n",
    "        if img is None:\n",
    "            continue\n",
    "\n",
    "        # Skin Masks\n",
    "        binary_hand=preprocessing(img, gamma=True, close=True)\n",
    "        cv2.imwrite(path_of_the_directory_result+filename,binary_hand)\n",
    "\n",
    "    path_of_the_directory='../data/women/'+str(i)+'/'\n",
    "    path_of_the_directory_result='../outputs/preprocessing_output/women/'+str(i)+'/'\n",
    "    ind=0\n",
    "    for filename in os.listdir(path_of_the_directory):\n",
    "        if(ind>20):\n",
    "            break\n",
    "        ind=ind+1\n",
    "        img = cv2.imread(path_of_the_directory+str( filename))\n",
    "        if img is None:\n",
    "            continue\n",
    "\n",
    "        # Skin Masks\n",
    "        binary_hand=preprocessing(img, gamma=True, close=True)\n",
    "        cv2.imwrite(path_of_the_directory_result+filename,binary_hand)"
   ]
  },
  {
   "cell_type": "markdown",
   "metadata": {},
   "source": [
    "Feature Extraction"
   ]
  },
  {
   "cell_type": "code",
   "execution_count": 25,
   "metadata": {},
   "outputs": [
    {
     "name": "stderr",
     "output_type": "stream",
     "text": [
      "c:\\Users\\mohab\\AppData\\Local\\Programs\\Python\\Python311\\Lib\\site-packages\\sklearn\\cluster\\_kmeans.py:870: FutureWarning: The default value of `n_init` will change from 10 to 'auto' in 1.4. Set the value of `n_init` explicitly to suppress the warning\n",
      "  warnings.warn(\n"
     ]
    }
   ],
   "source": [
    "number_of_clusters = 8\n",
    "feature_vector_men, expected_class_men = extract_features('../outputs/preprocessing_output/', num_of_clusters=number_of_clusters, debug=False)"
   ]
  },
  {
   "cell_type": "code",
   "execution_count": 31,
   "metadata": {},
   "outputs": [
    {
     "name": "stdout",
     "output_type": "stream",
     "text": [
      "     class    0    1    2    3    4    5    6    7\n",
      "0        0  1.0  0.0  0.0  1.0  0.0  0.0  1.0  1.0\n",
      "1        0  0.0  0.0  0.0  0.0  0.0  0.0  0.0  0.0\n",
      "2        0  0.0  0.0  0.0  0.0  0.0  0.0  0.0  0.0\n",
      "3        0  0.0  0.0  0.0  0.0  0.0  0.0  0.0  0.0\n",
      "4        0  0.0  0.0  0.0  1.0  0.0  0.0  1.0  0.0\n",
      "..     ...  ...  ...  ...  ...  ...  ...  ...  ...\n",
      "309      5  0.0  0.0  0.0  0.0  0.0  0.0  1.0  0.0\n",
      "310      5  0.0  0.0  0.0  0.0  0.0  1.0  0.0  0.0\n",
      "311      5  0.0  0.0  0.0  0.0  0.0  0.0  0.0  0.0\n",
      "312      5  0.0  0.0  0.0  0.0  0.0  0.0  0.0  0.0\n",
      "313      5  0.0  0.0  0.0  0.0  0.0  0.0  0.0  0.0\n",
      "\n",
      "[314 rows x 9 columns]\n"
     ]
    }
   ],
   "source": [
    "# creating df object with columns specified   \n",
    "csv = pd.DataFrame(feature_vector_men, columns =list(range(number_of_clusters))) \n",
    "\n",
    "#Adding Lables to the Data Frame\n",
    "\n",
    "csv.insert(0, \"class\", expected_class_men)\n",
    "print(csv)\n",
    "\n",
    "\n",
    "csv.to_csv (r'../outputs/features.csv', index = None)"
   ]
  },
  {
   "attachments": {},
   "cell_type": "markdown",
   "metadata": {},
   "source": [
    "Training"
   ]
  },
  {
   "cell_type": "code",
   "execution_count": 33,
   "metadata": {},
   "outputs": [],
   "source": [
    "# Read from CVS File\n",
    "df = pd.read_csv('../outputs/features.csv')\n",
    "# print(df)\n",
    "\n",
    "\n",
    "classes=df.loc[:,\"class\"]\n",
    "classes = classes.to_numpy()\n",
    "# print(classes)\n",
    "# print(np.shape(classes))\n",
    "\n",
    "\n",
    "features=df.loc[:, df.columns != 'class']\n",
    "features = features.to_numpy()\n",
    "# print(features)\n",
    "# print(np.shape(features))"
   ]
  },
  {
   "cell_type": "markdown",
   "metadata": {},
   "source": [
    "Model Training"
   ]
  },
  {
   "cell_type": "code",
   "execution_count": 35,
   "metadata": {},
   "outputs": [],
   "source": [
    "prediction, actual = train_svm(features, classes)\n",
    "# print(prediction)\n",
    "# print(actual)"
   ]
  },
  {
   "attachments": {},
   "cell_type": "markdown",
   "metadata": {},
   "source": [
    "Accuracy"
   ]
  },
  {
   "cell_type": "code",
   "execution_count": 36,
   "metadata": {},
   "outputs": [
    {
     "name": "stdout",
     "output_type": "stream",
     "text": [
      "0.6666666666666666\n"
     ]
    },
    {
     "name": "stdout",
     "output_type": "stream",
     "text": [
      "[[1. 2. 1.]\n",
      " [0. 0. 0.]\n",
      " [0. 0. 0.]\n",
      " [0. 0. 0.]\n",
      " [1. 0. 1.]\n",
      " [0. 0. 0.]\n",
      " [0. 0. 0.]\n",
      " [0. 0. 0.]\n",
      " [0. 0. 0.]\n",
      " [0. 0. 0.]\n",
      " [0. 1. 0.]\n",
      " [0. 0. 0.]\n",
      " [0. 0. 0.]\n",
      " [0. 0. 0.]\n",
      " [0. 0. 0.]\n",
      " [0. 0. 0.]\n",
      " [0. 0. 0.]\n",
      " [0. 0. 0.]\n",
      " [0. 0. 0.]\n",
      " [0. 0. 0.]\n",
      " [0. 0. 0.]]\n"
     ]
    }
   ],
   "source": [
    "accuracy = performance_analysis(prediction,actual)\n",
    "print(accuracy)"
   ]
  },
  {
   "cell_type": "code",
   "execution_count": null,
   "metadata": {},
   "outputs": [],
   "source": []
  }
 ],
 "metadata": {
  "kernelspec": {
   "display_name": "Python 3",
   "language": "python",
   "name": "python3"
  },
  "language_info": {
   "codemirror_mode": {
    "name": "ipython",
    "version": 3
   },
   "file_extension": ".py",
   "mimetype": "text/x-python",
   "name": "python",
   "nbconvert_exporter": "python",
   "pygments_lexer": "ipython3",
   "version": "3.10.9"
  },
  "orig_nbformat": 4
 },
 "nbformat": 4,
 "nbformat_minor": 2
}
