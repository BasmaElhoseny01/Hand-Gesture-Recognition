{
 "cells": [
  {
   "cell_type": "code",
   "execution_count": 1,
   "metadata": {},
   "outputs": [
    {
     "name": "stdout",
     "output_type": "stream",
     "text": [
      "      2.0  11.741123142875253\n",
      "0     2.0            8.705390\n",
      "1     1.0           -2.487999\n",
      "2     1.0            0.753337\n",
      "3     2.0           17.078399\n",
      "4     2.0           11.461871\n",
      "...   ...                 ...\n",
      "2494  2.0            7.820321\n",
      "2495  1.0           -0.198541\n",
      "2496  1.0            0.341571\n",
      "2497  1.0           -0.916064\n",
      "2498  2.0           12.889668\n",
      "\n",
      "[2499 rows x 2 columns]\n"
     ]
    }
   ],
   "source": [
    "import pandas as pd\n",
    "\n",
    "df = pd.read_csv('data.csv')\n",
    "print(df)"
   ]
  },
  {
   "cell_type": "code",
   "execution_count": null,
   "metadata": {},
   "outputs": [],
   "source": []
  }
 ],
 "metadata": {
  "kernelspec": {
   "display_name": "Python 3",
   "language": "python",
   "name": "python3"
  },
  "language_info": {
   "codemirror_mode": {
    "name": "ipython",
    "version": 3
   },
   "file_extension": ".py",
   "mimetype": "text/x-python",
   "name": "python",
   "nbconvert_exporter": "python",
   "pygments_lexer": "ipython3",
   "version": "3.10.9"
  },
  "orig_nbformat": 4
 },
 "nbformat": 4,
 "nbformat_minor": 2
}
