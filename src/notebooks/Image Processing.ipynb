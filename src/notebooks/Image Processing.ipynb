{
 "cells": [
  {
   "cell_type": "code",
   "execution_count": 33,
   "metadata": {},
   "outputs": [
    {
     "name": "stdout",
     "output_type": "stream",
     "text": [
      "The autoreload extension is already loaded. To reload it, use:\n",
      "  %reload_ext autoreload\n",
      "Current Directory:  d:\\Hand-Gesture-Recognition\\src\\notebooks\n"
     ]
    }
   ],
   "source": [
    "%load_ext autoreload\n",
    "%autoreload 2\n",
    "import sys\n",
    "import os\n",
    "# caution: path[0] is reserved for script path (or '' in REPL)\n",
    "current_dir=os.path.abspath('')\n",
    "print(\"Current Directory: \",current_dir)\n",
    "src_dir=os.path.join(current_dir,'../')\n",
    "sys.path.insert(1, src_dir) # back to the src directory\n",
    "\n",
    "# All files in src are now seen here\n",
    "from utils import *\n",
    "from modules.preprocessing import hand_shadow_based_preprocessing\n"
   ]
  },
  {
   "cell_type": "code",
   "execution_count": 4,
   "metadata": {},
   "outputs": [
    {
     "name": "stdout",
     "output_type": "stream",
     "text": [
      "Results are saved in  d:\\Hand-Gesture-Recognition\\src\\notebooks\\../../preprocessing_results\n",
      "removed files Successfully\n",
      "path_result: ['New folder']\n"
     ]
    }
   ],
   "source": [
    "# Make Output directory\n",
    "path_result=os.path.join(src_dir,'../preprocessing_results')\n",
    "print(\"Results are saved in \",path_result)\n",
    "\n",
    "isExist = os.path.exists(path_result)\n",
    "\n",
    "if not isExist:\n",
    "    os.makedirs(path_result)\n",
    "    print(\"The new directory is created!\")\n",
    "else:\n",
    "    all_files = os.listdir(path_result)\n",
    "    # print(all_files)\n",
    "    for f in all_files:\n",
    "        if(os.path.isdir(os.path.join(path_result,f))):\n",
    "            #Skip folders\n",
    "            continue\n",
    "        # print(f)\n",
    "        os.remove(os.path.join(path_result,f))\n",
    "\n",
    "\n",
    "print(\"removed files Successfully\")\n",
    "print(\"path_result:\",os.listdir(path_result))\n"
   ]
  },
  {
   "cell_type": "code",
   "execution_count": 35,
   "metadata": {},
   "outputs": [
    {
     "name": "stdout",
     "output_type": "stream",
     "text": [
      "d:\\Hand-Gesture-Recognition\\src\\notebooks\\../../data_simple/split/men/test/0/\n",
      "0_men (104).JPG\n",
      "d:\\Hand-Gesture-Recognition\\src\\notebooks\\../../data_simple/split/men/test/1/\n",
      "1_men (104).JPG\n",
      "d:\\Hand-Gesture-Recognition\\src\\notebooks\\../../data_simple/split/men/test/2/\n",
      "2_men (104).JPG\n",
      "d:\\Hand-Gesture-Recognition\\src\\notebooks\\../../data_simple/split/men/test/3/\n",
      "3_men (104).JPG\n",
      "d:\\Hand-Gesture-Recognition\\src\\notebooks\\../../data_simple/split/men/test/4/\n",
      "4_men (104).JPG\n",
      "d:\\Hand-Gesture-Recognition\\src\\notebooks\\../../data_simple/split/men/test/5/\n",
      "5_men (104).JPG\n",
      "d:\\Hand-Gesture-Recognition\\src\\notebooks\\../../data_simple/split/men/val/0/\n",
      "0_men (10).JPG\n",
      "d:\\Hand-Gesture-Recognition\\src\\notebooks\\../../data_simple/split/men/val/1/\n",
      "1_men (10).JPG\n",
      "d:\\Hand-Gesture-Recognition\\src\\notebooks\\../../data_simple/split/men/val/2/\n",
      "2_men (10).JPG\n",
      "d:\\Hand-Gesture-Recognition\\src\\notebooks\\../../data_simple/split/men/val/3/\n",
      "3_men (10).JPG\n",
      "d:\\Hand-Gesture-Recognition\\src\\notebooks\\../../data_simple/split/men/val/4/\n",
      "4_men (10).JPG\n",
      "d:\\Hand-Gesture-Recognition\\src\\notebooks\\../../data_simple/split/men/val/5/\n",
      "5_men (10).JPG\n",
      "d:\\Hand-Gesture-Recognition\\src\\notebooks\\../../data_simple/split/men/train/0/\n",
      "0_men (1).JPG\n",
      "d:\\Hand-Gesture-Recognition\\src\\notebooks\\../../data_simple/split/men/train/1/\n",
      "1_men (1).JPG\n",
      "d:\\Hand-Gesture-Recognition\\src\\notebooks\\../../data_simple/split/men/train/2/\n",
      "2_men (1).JPG\n",
      "d:\\Hand-Gesture-Recognition\\src\\notebooks\\../../data_simple/split/men/train/3/\n",
      "3_men (1).JPG\n",
      "d:\\Hand-Gesture-Recognition\\src\\notebooks\\../../data_simple/split/men/train/4/\n",
      "4_men (1).JPG\n",
      "d:\\Hand-Gesture-Recognition\\src\\notebooks\\../../data_simple/split/men/train/5/\n",
      "5_men (1).JPG\n"
     ]
    }
   ],
   "source": [
    "count_indx=1\n",
    "\n",
    "for j in ['test','val','train']:\n",
    "\n",
    "    for i in range(0, 6):\n",
    "        # print(i)\n",
    "        path=os.path.join(src_dir,'../data_simple/split/men/'+j+'/'+str(i)+'/')\n",
    "        print(path)\n",
    "        indx=0\n",
    "        for filename in os.listdir(path):\n",
    "            if(indx>=count_indx):\n",
    "                continue\n",
    "            print(filename)\n",
    "            indx+=1\n",
    "\n",
    "            img = cv2.imread(path+str(filename))\n",
    "            if img is None:\n",
    "                continue\n",
    "\n",
    "            #Preprocessing\n",
    "            _,_,result=hand_shadow_based_preprocessing(img,debug=False)\n",
    "\n",
    "            #Save Results\n",
    "            cv2.imwrite(os.path.join(path_result,str(filename)),result)\n",
    "\n",
    "\n",
    "\n",
    "\n",
    "\n",
    "\n"
   ]
  },
  {
   "cell_type": "code",
   "execution_count": null,
   "metadata": {},
   "outputs": [],
   "source": []
  }
 ],
 "metadata": {
  "kernelspec": {
   "display_name": "Python 3",
   "language": "python",
   "name": "python3"
  },
  "language_info": {
   "codemirror_mode": {
    "name": "ipython",
    "version": 3
   },
   "file_extension": ".py",
   "mimetype": "text/x-python",
   "name": "python",
   "nbconvert_exporter": "python",
   "pygments_lexer": "ipython3",
   "version": "3.10.9"
  },
  "orig_nbformat": 4
 },
 "nbformat": 4,
 "nbformat_minor": 2
}
