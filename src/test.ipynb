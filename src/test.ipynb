{
 "cells": [
  {
   "cell_type": "code",
   "execution_count": 1,
   "metadata": {},
   "outputs": [],
   "source": [
    "from utils import *"
   ]
  },
  {
   "cell_type": "code",
   "execution_count": 29,
   "metadata": {},
   "outputs": [
    {
     "name": "stdout",
     "output_type": "stream",
     "text": [
      "  class                                      featurevector\n",
      "0    M0  [1, 2, 3, 4, 5, 6, 1, 2, 3, 4, 5, 6, 1, 2, 3, ...\n",
      "1    M1                                       [1, 2, 3, 4]\n",
      "2    M0                                          [1, 2, 3]\n"
     ]
    }
   ],
   "source": [
    "x=[{\n",
    "    \"class\":'M0',\n",
    "    # \"featurevector\":5\n",
    "    \"featurevector\":[1,2,3,4,5,6,1,2,3,4,5,6,1,2,3,4,5,6,1,2,3,4,5,6,1,2,3,4,5,6,1,2,3,4,5,6,1,2,3,4,5,6,1,2,3,4,5,6,'v',1,2,3,4,5,61,2,3,4,5,6,1,2,3,4,5,6,1,2,3,4,5,6,6,1,2,3,4,5,6,1,2,3,4,5,6,'v',1,2,3,4,5,61,2,3,4,5,6,1,2,3,4,5,6,1,2,3,4,5,6,6,1,2,3,4,5,6,1,2,3,4,5,6,'v',1,2,3,4,5,61,2,3,4,5,6,1,2,3,4,5,6,1,2,3,4,5,6,6,1,2,3,4,5,6,1,2,3,4,5,6,'v',1,2,3,4,5,61,2,3,4,5,6,1,2,3,4,5,6,1,2,3,4,5,6,6,1,2,3,4,5,6,1,2,3,4,5,6,'v',1,2,3,4,5,61,2,3,4,5,6,1,2,3,4,5,6,1,2,3,4,5,6,6,1,2,3,4,5,6,1,2,3,4,5,6,'v',1,2,3,4,5,61,2,3,4,5,6,1,2,3,4,5,6,1,2,3,4,5,6,6,1,2,3,4,5,6,1,2,3,4,5,6,'v',1,2,3,4,5,61,2,3,4,5,6,1,2,3,4,5,6,1,2,3,4,5,6,6,1,2,3,4,5,6,1,2,3,4,5,6,'v',1,2,3,4,5,61,2,3,4,5,6,1,2,3,4,5,6,1,2,3,4,5,6,6,1,2,3,4,5,6,1,2,3,4,5,6,'v',1,2,3,4,5,61,2,3,4,5,6,1,2,3,4,5,6,1,2,3,4,5,6,6,1,2,3,4,5,6,1,2,3,4,5,6,'v',1,2,3,4,5,61,2,3,4,5,6,1,2,3,4,5,6,1,2,3,4,5,6,6,1,2,3,4,5,6,1,2,3,4,5,6,'v',1,2,3,4,5,61,2,3,4,5,6,1,2,3,4,5,6,1,2,3,4,5,6]\n",
    "},\n",
    "{\n",
    "    \"class\":'M1',\n",
    "    # \"featurevector\":7\n",
    "    \"featurevector\":[1,2,3,4]\n",
    "},\n",
    "{\n",
    "    \"class\":'M0',\n",
    "    # \"featurevector\":5\n",
    "    \"featurevector\":[1,2,3]\n",
    "}]\n",
    "# print(x)\n",
    "\n",
    "df=pd.DataFrame(x)\n",
    "print(df)\n",
    "df.to_csv (r'./data.csv', index = None)\n"
   ]
  },
  {
   "cell_type": "code",
   "execution_count": 14,
   "metadata": {},
   "outputs": [
    {
     "ename": "ValueError",
     "evalue": "could not convert string 'M1' to float64 at row 0, column 1.",
     "output_type": "error",
     "traceback": [
      "\u001b[1;31m---------------------------------------------------------------------------\u001b[0m",
      "\u001b[1;31mValueError\u001b[0m                                Traceback (most recent call last)",
      "\u001b[1;31mValueError\u001b[0m: could not convert string to float: 'M1'",
      "\nThe above exception was the direct cause of the following exception:\n",
      "\u001b[1;31mValueError\u001b[0m                                Traceback (most recent call last)",
      "Cell \u001b[1;32mIn[14], line 1\u001b[0m\n\u001b[1;32m----> 1\u001b[0m data \u001b[39m=\u001b[39m np\u001b[39m.\u001b[39;49mloadtxt(\u001b[39m'\u001b[39;49m\u001b[39m./data.csv\u001b[39;49m\u001b[39m'\u001b[39;49m, delimiter \u001b[39m=\u001b[39;49m \u001b[39m'\u001b[39;49m\u001b[39m,\u001b[39;49m\u001b[39m'\u001b[39;49m,skiprows\u001b[39m=\u001b[39;49m\u001b[39m2\u001b[39;49m)\n\u001b[0;32m      2\u001b[0m \u001b[39mprint\u001b[39m(data)\n",
      "File \u001b[1;32mc:\\Users\\Dell\\AppData\\Local\\Programs\\Python\\Python310\\lib\\site-packages\\numpy\\lib\\npyio.py:1338\u001b[0m, in \u001b[0;36mloadtxt\u001b[1;34m(fname, dtype, comments, delimiter, converters, skiprows, usecols, unpack, ndmin, encoding, max_rows, quotechar, like)\u001b[0m\n\u001b[0;32m   1335\u001b[0m \u001b[39mif\u001b[39;00m \u001b[39misinstance\u001b[39m(delimiter, \u001b[39mbytes\u001b[39m):\n\u001b[0;32m   1336\u001b[0m     delimiter \u001b[39m=\u001b[39m delimiter\u001b[39m.\u001b[39mdecode(\u001b[39m'\u001b[39m\u001b[39mlatin1\u001b[39m\u001b[39m'\u001b[39m)\n\u001b[1;32m-> 1338\u001b[0m arr \u001b[39m=\u001b[39m _read(fname, dtype\u001b[39m=\u001b[39;49mdtype, comment\u001b[39m=\u001b[39;49mcomment, delimiter\u001b[39m=\u001b[39;49mdelimiter,\n\u001b[0;32m   1339\u001b[0m             converters\u001b[39m=\u001b[39;49mconverters, skiplines\u001b[39m=\u001b[39;49mskiprows, usecols\u001b[39m=\u001b[39;49musecols,\n\u001b[0;32m   1340\u001b[0m             unpack\u001b[39m=\u001b[39;49munpack, ndmin\u001b[39m=\u001b[39;49mndmin, encoding\u001b[39m=\u001b[39;49mencoding,\n\u001b[0;32m   1341\u001b[0m             max_rows\u001b[39m=\u001b[39;49mmax_rows, quote\u001b[39m=\u001b[39;49mquotechar)\n\u001b[0;32m   1343\u001b[0m \u001b[39mreturn\u001b[39;00m arr\n",
      "File \u001b[1;32mc:\\Users\\Dell\\AppData\\Local\\Programs\\Python\\Python310\\lib\\site-packages\\numpy\\lib\\npyio.py:999\u001b[0m, in \u001b[0;36m_read\u001b[1;34m(fname, delimiter, comment, quote, imaginary_unit, usecols, skiplines, max_rows, converters, ndmin, unpack, dtype, encoding)\u001b[0m\n\u001b[0;32m    996\u001b[0m     data \u001b[39m=\u001b[39m _preprocess_comments(data, comments, encoding)\n\u001b[0;32m    998\u001b[0m \u001b[39mif\u001b[39;00m read_dtype_via_object_chunks \u001b[39mis\u001b[39;00m \u001b[39mNone\u001b[39;00m:\n\u001b[1;32m--> 999\u001b[0m     arr \u001b[39m=\u001b[39m _load_from_filelike(\n\u001b[0;32m   1000\u001b[0m         data, delimiter\u001b[39m=\u001b[39;49mdelimiter, comment\u001b[39m=\u001b[39;49mcomment, quote\u001b[39m=\u001b[39;49mquote,\n\u001b[0;32m   1001\u001b[0m         imaginary_unit\u001b[39m=\u001b[39;49mimaginary_unit,\n\u001b[0;32m   1002\u001b[0m         usecols\u001b[39m=\u001b[39;49musecols, skiplines\u001b[39m=\u001b[39;49mskiplines, max_rows\u001b[39m=\u001b[39;49mmax_rows,\n\u001b[0;32m   1003\u001b[0m         converters\u001b[39m=\u001b[39;49mconverters, dtype\u001b[39m=\u001b[39;49mdtype,\n\u001b[0;32m   1004\u001b[0m         encoding\u001b[39m=\u001b[39;49mencoding, filelike\u001b[39m=\u001b[39;49mfilelike,\n\u001b[0;32m   1005\u001b[0m         byte_converters\u001b[39m=\u001b[39;49mbyte_converters)\n\u001b[0;32m   1007\u001b[0m \u001b[39melse\u001b[39;00m:\n\u001b[0;32m   1008\u001b[0m     \u001b[39m# This branch reads the file into chunks of object arrays and then\u001b[39;00m\n\u001b[0;32m   1009\u001b[0m     \u001b[39m# casts them to the desired actual dtype.  This ensures correct\u001b[39;00m\n\u001b[0;32m   1010\u001b[0m     \u001b[39m# string-length and datetime-unit discovery (like `arr.astype()`).\u001b[39;00m\n\u001b[0;32m   1011\u001b[0m     \u001b[39m# Due to chunking, certain error reports are less clear, currently.\u001b[39;00m\n\u001b[0;32m   1012\u001b[0m     \u001b[39mif\u001b[39;00m filelike:\n",
      "\u001b[1;31mValueError\u001b[0m: could not convert string 'M1' to float64 at row 0, column 1."
     ]
    }
   ],
   "source": [
    "data = np.loadtxt('./data.csv', delimiter = ',',skiprows=2)\n",
    "print(data)"
   ]
  },
  {
   "cell_type": "code",
   "execution_count": 99,
   "metadata": {},
   "outputs": [
    {
     "name": "stdout",
     "output_type": "stream",
     "text": [
      "  class                                           features\n",
      "0    M0                                          [1, 2, 3]\n",
      "1    M1  [1, 2, 3, 4, 1, 2, 3, 4, 1, 2, 3, 4, 1, 2, 3, ...\n",
      "2    M5                                    [1, 2, 3, 4, 5]\n",
      "3    W2                                             [1, 2]\n",
      "4    W4                                       [1, 2, 3, 4]\n"
     ]
    },
    {
     "name": "stderr",
     "output_type": "stream",
     "text": [
      "C:\\Users\\Dell\\AppData\\Local\\Temp\\ipykernel_4976\\3728535770.py:1: VisibleDeprecationWarning: Creating an ndarray from ragged nested sequences (which is a list-or-tuple of lists-or-tuples-or ndarrays with different lengths or shapes) is deprecated. If you meant to do this, you must specify 'dtype=object' when creating the ndarray.\n",
      "  x=np.array([np.array([\n"
     ]
    }
   ],
   "source": [
    "x=np.array([np.array([\n",
    "    1,2,3]),\n",
    "np.array([1,2,3,4,1,2,3,4,1,2,3,4,1,2,3,4,1,2,3,4,1,2,3,4,1,2,3,4,3,4,1,2,3,4,3,4,1,2,3,4,3,4,1,2,3,4,3,4,1,2,3,4,3,4,1,2,3,4,3,4,1,2,3,4,3,4,1,2,3,4,3,4,1,2,3,4,3,4,1,2,3,4,3,4,1,2,3,4,3,4,1,2,3,4,3,4,1,2,3,4,3,4,1,2,3,4,3,4,1,2,3,4,3,4,1,2,3,4,3,4,1,2,3,4,3,4,1,2,3,4,3,4,1,2,3,4,3,4,1,2,3,4,3,4,1,2,3,4,3,4,1,2,3,4,3,4,1,2,3,4,3,4,1,2,3,4,3,4,1,2,3,4,3,4,1,2,3,4,3,4,1,2,3,4,3,4,1,2,3,4,3,4,1,2,3,4,3,4,1,2,3,4,3,4,1,2,3,4,3,4,1,2,3,4,3,4,1,2,3,4,3,4,1,2,3,4,3,4,1,2,3,4,3,4,1,2,3,4,3,4,1,2,3,4,3,4,1,2,3,4,3,4,1,2,3,4,3,4,1,2,3,4,3,4,1,2,3,4,3,4,1,2,3,4,3,4,1,2,3,4,3,4,1,2,3,4,3,4,1,2,3,4,3,4,1,2,3,4,10]),\n",
    "np.array([1,2,3,4,5]),\n",
    "np.array([1,2]),\n",
    "np.array([1,2,3,4])\n",
    "])\n",
    "# print(x)\n",
    "df=pd.DataFrame(x,columns=[\"features\"])\n",
    "\n",
    "\n",
    "\n",
    "class_a=np.array(['M0','M1','M5','W2','W4'])\n",
    "# df.assign(col_name=['class'])#Make new empty column\n",
    "# df.insert(0, 'class', class_a)\n",
    "# df.assign(class_ind=class_a)\n",
    "df.insert(0, \"class\", class_a)\n",
    "print(df)\n",
    "df.to_csv (r'./data.csv', index = None)\n",
    "# df.to_csv(index=False)"
   ]
  },
  {
   "cell_type": "markdown",
   "metadata": {},
   "source": []
  },
  {
   "cell_type": "code",
   "execution_count": 93,
   "metadata": {},
   "outputs": [
    {
     "name": "stdout",
     "output_type": "stream",
     "text": [
      "  class                                      featurevector\n",
      "0    M0  [1, 2, 3, 4, 5, 6, 1, 2, 3, 4, 5, 6, 1, 2, 3, ...\n",
      "1    M1                                       [1, 2, 3, 4]\n",
      "2    M0                                          [1, 2, 3]\n"
     ]
    }
   ],
   "source": [
    "# data = np.loadtxt('./data.csv')\n",
    "df = pd.read_csv('data.csv')\n",
    "print(df)"
   ]
  },
  {
   "cell_type": "code",
   "execution_count": 77,
   "metadata": {},
   "outputs": [
    {
     "name": "stdout",
     "output_type": "stream",
     "text": [
      "[1 2 3 4 5 6 1 2 3 4 5 6 1 2 3 4 5 6 1 2 3 4 5 6 1 2 3 4 5 6 1 2 3 4 5 6 1\n",
      " 2 3 4 5 6 1 2 3 4 5 6]\n",
      "(48,)\n",
      "[1 2 3 4]\n",
      "(4,)\n",
      "[1 2 3]\n",
      "(3,)\n"
     ]
    },
    {
     "name": "stderr",
     "output_type": "stream",
     "text": [
      "C:\\Users\\Dell\\AppData\\Local\\Temp\\ipykernel_4976\\4228100959.py:8: DeprecationWarning: string or file could not be read to its end due to unmatched data; this will raise a ValueError in the future.\n",
      "  my_list = np.fromstring(x[1:-1], dtype=int, sep=', ')\n"
     ]
    }
   ],
   "source": [
    "# df.columns\n",
    "# print(df.keys)\n",
    "# print(df.iloc[1])\n",
    "# print(df.iloc[1]['featurevector'])\n",
    "# print(type(df.iloc[1]['featurevector']))\n",
    "x=df.iloc[0]['featurevector']\n",
    "\n",
    "my_list = np.fromstring(x[1:-1], dtype=int, sep=', ')\n",
    "print(my_list)\n",
    "print(np.shape(my_list))\n",
    "\n",
    "x=df.iloc[1]['featurevector']\n",
    "\n",
    "my_list = np.fromstring(x[1:-1], dtype=int, sep=', ')\n",
    "print(my_list)\n",
    "print(np.shape(my_list))\n",
    "\n",
    "\n",
    "x=df.iloc[2]['featurevector']\n",
    "\n",
    "my_list = np.fromstring(x[1:-1], dtype=int, sep=', ')\n",
    "print(my_list)\n",
    "print(np.shape(my_list))"
   ]
  },
  {
   "cell_type": "code",
   "execution_count": 56,
   "metadata": {},
   "outputs": [
    {
     "name": "stdout",
     "output_type": "stream",
     "text": [
      "[bd,f,gh]\n",
      "()\n"
     ]
    }
   ],
   "source": [
    "x=np.array('[bd,f,gh]')\n",
    "print(x)\n",
    "print(np.shape(x))"
   ]
  },
  {
   "cell_type": "code",
   "execution_count": 65,
   "metadata": {},
   "outputs": [
    {
     "name": "stdout",
     "output_type": "stream",
     "text": [
      "['welcome', 'to', 'the', 'jungle']\n"
     ]
    }
   ],
   "source": [
    "txt = \"welcome to the jungle\"\n",
    "\n",
    "x = txt.split(\" \")\n",
    "\n",
    "print(x)"
   ]
  },
  {
   "cell_type": "code",
   "execution_count": null,
   "metadata": {},
   "outputs": [],
   "source": []
  }
 ],
 "metadata": {
  "kernelspec": {
   "display_name": "Python 3",
   "language": "python",
   "name": "python3"
  },
  "language_info": {
   "codemirror_mode": {
    "name": "ipython",
    "version": 3
   },
   "file_extension": ".py",
   "mimetype": "text/x-python",
   "name": "python",
   "nbconvert_exporter": "python",
   "pygments_lexer": "ipython3",
   "version": "3.10.9"
  },
  "orig_nbformat": 4
 },
 "nbformat": 4,
 "nbformat_minor": 2
}
