{
 "cells": [
  {
   "cell_type": "code",
   "execution_count": 3,
   "metadata": {},
   "outputs": [],
   "source": [
    "%load_ext autoreload\n",
    "%autoreload 2\n",
    "from utils import *\n",
    "from feature_extraction import images_Dictionary"
   ]
  },
  {
   "cell_type": "code",
   "execution_count": 2,
   "metadata": {},
   "outputs": [
    {
     "name": "stdout",
     "output_type": "stream",
     "text": [
      "['cq' 'dq' 'c' 'd']\n"
     ]
    }
   ],
   "source": [
    "a =np.array(['cq', 'dq'])\n",
    "b =np.array(['c', 'd'])\n",
    "x=np.append(a, b, axis=None)\n",
    "print(x)\n"
   ]
  },
  {
   "cell_type": "code",
   "execution_count": 5,
   "metadata": {},
   "outputs": [
    {
     "ename": "KeyError",
     "evalue": "'0'",
     "output_type": "error",
     "traceback": [
      "\u001b[1;31m---------------------------------------------------------------------------\u001b[0m",
      "\u001b[1;31mKeyError\u001b[0m                                  Traceback (most recent call last)",
      "Cell \u001b[1;32mIn[5], line 3\u001b[0m\n\u001b[0;32m      1\u001b[0m images_men\u001b[39m=\u001b[39m{}\n\u001b[0;32m      2\u001b[0m \u001b[39m#Men Images\u001b[39;00m\n\u001b[1;32m----> 3\u001b[0m images_men\u001b[39m=\u001b[39mimages_Dictionary(\u001b[39m\"\u001b[39;49m\u001b[39m../outputs/preprocessing_output/men/\u001b[39;49m\u001b[39m\"\u001b[39;49m)\n\u001b[0;32m      4\u001b[0m \u001b[39m# print(images)\u001b[39;00m\n\u001b[0;32m      5\u001b[0m \u001b[39mprint\u001b[39m(np\u001b[39m.\u001b[39mshape(images_men[\u001b[39m'\u001b[39m\u001b[39m0\u001b[39m\u001b[39m'\u001b[39m]))\n",
      "File \u001b[1;32md:\\Hand-Gesture-Recognition\\src\\feature_extraction.py:84\u001b[0m, in \u001b[0;36mimages_Dictionary\u001b[1;34m(path_data_folder)\u001b[0m\n\u001b[0;32m     82\u001b[0m         \u001b[39mif\u001b[39;00m img \u001b[39mis\u001b[39;00m \u001b[39mnot\u001b[39;00m \u001b[39mNone\u001b[39;00m:\n\u001b[0;32m     83\u001b[0m             category_imgs\u001b[39m.\u001b[39mappend(img)\n\u001b[1;32m---> 84\u001b[0m     images[filename]\u001b[39m.\u001b[39mappend(category_imgs)\n\u001b[0;32m     86\u001b[0m \u001b[39mreturn\u001b[39;00m images\n",
      "\u001b[1;31mKeyError\u001b[0m: '0'"
     ]
    }
   ],
   "source": [
    "images_men={}\n",
    "#Men Images\n",
    "images_men=images_Dictionary(\"../outputs/preprocessing_output/men/\")\n",
    "# print(images)\n",
    "print(np.shape(images_men['0']))\n",
    "\n",
    "# # Add Women Images\n",
    "images_women={}\n",
    "images_men=images_Dictionary(\"../outputs/preprocessing_output/women/\")\n",
    "# print(images)\n",
    "print(np.shape(images_women['0']))\n",
    "\n",
    "images={}\n",
    "for i in range(0,6):\n",
    "    print(i)\n",
    "    images[str(i)]=np.concatenate((images_men[str(i)],images_women[str(i)]),axis=0)\n",
    "\n",
    "print(np.shape(images['0']))\n"
   ]
  },
  {
   "cell_type": "code",
   "execution_count": 20,
   "metadata": {},
   "outputs": [
    {
     "name": "stdout",
     "output_type": "stream",
     "text": [
      "[[2 4]\n",
      " [6 8]\n",
      " [3 5]\n",
      " [7 9]]\n"
     ]
    }
   ],
   "source": [
    "import numpy as np\n",
    "  \n",
    "arr1 = np.array([[2, 4], [6, 8]])\n",
    "arr2 = np.array([[3, 5], [7, 9]])\n",
    "  \n",
    "gfg = np.concatenate((arr1, arr2), axis = 0)\n",
    "print(gfg)"
   ]
  },
  {
   "cell_type": "code",
   "execution_count": 9,
   "metadata": {},
   "outputs": [
    {
     "name": "stdout",
     "output_type": "stream",
     "text": [
      "None\n",
      "{'a': [1, 2, 3]}\n",
      "{'a': [1, 2, 3, [5, 6]]}\n"
     ]
    }
   ],
   "source": [
    "import numpy as np\n",
    "a={}\n",
    "print(a.get('a'))\n",
    "if(a.get('a') is None):\n",
    "    a.update({\"a\": [1,2,3]})\n",
    "else:\n",
    "    a['a'].append([5,6])\n",
    "\n",
    "print(a)\n",
    "\n",
    "a['a'].append([5,6])\n",
    "print(a)"
   ]
  },
  {
   "cell_type": "code",
   "execution_count": 18,
   "metadata": {},
   "outputs": [
    {
     "ename": "TypeError",
     "evalue": "_insert_dispatcher() missing 1 required positional argument: 'obj'",
     "output_type": "error",
     "traceback": [
      "\u001b[1;31m---------------------------------------------------------------------------\u001b[0m",
      "\u001b[1;31mTypeError\u001b[0m                                 Traceback (most recent call last)",
      "Cell \u001b[1;32mIn[18], line 3\u001b[0m\n\u001b[0;32m      1\u001b[0m \u001b[39mimport\u001b[39;00m \u001b[39mnumpy\u001b[39;00m \u001b[39mas\u001b[39;00m \u001b[39mnp\u001b[39;00m\n\u001b[0;32m      2\u001b[0m x \u001b[39m=\u001b[39m np\u001b[39m.\u001b[39marray([[\u001b[39m1\u001b[39m,\u001b[39m2\u001b[39m,\u001b[39m3\u001b[39m],[\u001b[39m4\u001b[39m,\u001b[39m5\u001b[39m,\u001b[39m6\u001b[39m]])\n\u001b[1;32m----> 3\u001b[0m x\u001b[39m=\u001b[39mnp\u001b[39m.\u001b[39;49minsert(x,values\u001b[39m=\u001b[39;49mnp\u001b[39m.\u001b[39;49marray([\u001b[39m1\u001b[39;49m,\u001b[39m2\u001b[39;49m,\u001b[39m3\u001b[39;49m,\u001b[39m4\u001b[39;49m]))\n\u001b[0;32m      4\u001b[0m \u001b[39m# x=np.append(x,np.array([1,2,3,4]))\u001b[39;00m\n\u001b[0;32m      5\u001b[0m \u001b[39mprint\u001b[39m(x)\n",
      "File \u001b[1;32m<__array_function__ internals>:179\u001b[0m, in \u001b[0;36minsert\u001b[1;34m(*args, **kwargs)\u001b[0m\n",
      "\u001b[1;31mTypeError\u001b[0m: _insert_dispatcher() missing 1 required positional argument: 'obj'"
     ]
    }
   ],
   "source": [
    "import numpy as np\n",
    "x = np.array([[1,2,3],[4,5,6]])\n",
    "x=np.insert(x,values=np.array([1,2,3,4]))\n",
    "# x=np.append(x,np.array([1,2,3,4]))\n",
    "print(x)\n"
   ]
  },
  {
   "cell_type": "code",
   "execution_count": 34,
   "metadata": {},
   "outputs": [
    {
     "name": "stdout",
     "output_type": "stream",
     "text": [
      "[[1 2 3]\n",
      " [4 5 6]]\n"
     ]
    },
    {
     "data": {
      "text/plain": [
       "array([[1, 2, 3],\n",
       "       [4, 5, 6],\n",
       "       [5, 6, 8]])"
      ]
     },
     "execution_count": 34,
     "metadata": {},
     "output_type": "execute_result"
    }
   ],
   "source": [
    "arr = np.array([[1,2,3],[4,5,6]])\n",
    "print(arr)\n",
    "np.vstack([arr,np.array([5,6,8])])"
   ]
  },
  {
   "cell_type": "code",
   "execution_count": 2,
   "metadata": {},
   "outputs": [
    {
     "name": "stdout",
     "output_type": "stream",
     "text": [
      "[1, 2, 3]\n"
     ]
    }
   ],
   "source": [
    "x=[1,2]\n",
    "x.append(3)\n",
    "print(x)"
   ]
  },
  {
   "cell_type": "code",
   "execution_count": 6,
   "metadata": {},
   "outputs": [
    {
     "name": "stdout",
     "output_type": "stream",
     "text": [
      "dict_values([array([1, 3, 5]), array([1, 3, 5])])\n"
     ]
    }
   ],
   "source": [
    "import numpy as np\n",
    "a={'a':np.array([1,3,5]),\n",
    "'b':np.array([1,3,5])\n",
    "}\n",
    "print(a.values())"
   ]
  },
  {
   "cell_type": "code",
   "execution_count": 22,
   "metadata": {},
   "outputs": [
    {
     "name": "stdout",
     "output_type": "stream",
     "text": [
      "[[1 2 3]\n",
      " [4 5 6]]\n",
      "[[ 7  8  9]\n",
      " [10 11 12]]\n",
      "[[13 14 15]\n",
      " [16 17 18]]\n",
      "[[ 1  2  3]\n",
      " [ 4  5  6]\n",
      " [ 7  8  9]\n",
      " [10 11 12]\n",
      " [13 14 15]\n",
      " [16 17 18]]\n"
     ]
    }
   ],
   "source": [
    "import pandas as pd\n",
    "d = {'a': np.array([[1, 2, 3],[4, 5, 6]]),\n",
    "      'b': np.array([[7,8,9],[10,11,12]]),\n",
    "      'c': np.array([[13,14,15],[16,17,18]])}\n",
    "\n",
    "# df = pd.DataFrame({k:list(v) for k,v in d.items()})\n",
    "# print(df)\n",
    "all_feature_descriptors=[]\n",
    "for fd in d.values():\n",
    "    print(fd)\n",
    "    all_feature_descriptors.append(fd)\n",
    "\n",
    "# print(np.array(all_feature_descriptors).flatten())\n",
    "print(np.array(all_feature_descriptors).reshape(-1,3))\n",
    "# print(np.shape(all_feature_descriptors))"
   ]
  },
  {
   "cell_type": "code",
   "execution_count": null,
   "metadata": {},
   "outputs": [],
   "source": []
  }
 ],
 "metadata": {
  "kernelspec": {
   "display_name": "Python 3",
   "language": "python",
   "name": "python3"
  },
  "language_info": {
   "codemirror_mode": {
    "name": "ipython",
    "version": 3
   },
   "file_extension": ".py",
   "mimetype": "text/x-python",
   "name": "python",
   "nbconvert_exporter": "python",
   "pygments_lexer": "ipython3",
   "version": "3.10.9"
  },
  "orig_nbformat": 4
 },
 "nbformat": 4,
 "nbformat_minor": 2
}
